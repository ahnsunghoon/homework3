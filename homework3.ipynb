{
  "nbformat": 4,
  "nbformat_minor": 0,
  "metadata": {
    "colab": {
      "provenance": [],
      "authorship_tag": "ABX9TyMM90PVhLYeZw4iywMGqgqO",
      "include_colab_link": true
    },
    "kernelspec": {
      "name": "python3",
      "display_name": "Python 3"
    },
    "language_info": {
      "name": "python"
    }
  },
  "cells": [
    {
      "cell_type": "markdown",
      "metadata": {
        "id": "view-in-github",
        "colab_type": "text"
      },
      "source": [
        "<a href=\"https://colab.research.google.com/github/ahnsunghoon/homework3/blob/main/homework3.ipynb\" target=\"_parent\"><img src=\"https://colab.research.google.com/assets/colab-badge.svg\" alt=\"Open In Colab\"/></a>"
      ]
    },
    {
      "cell_type": "code",
      "execution_count": null,
      "metadata": {
        "id": "LcvQoODLyKEC",
        "outputId": "fde85f91-b346-47fd-f45d-dd15b22044a6",
        "colab": {
          "base_uri": "https://localhost:8080/"
        }
      },
      "outputs": [
        {
          "metadata": {
            "tags": null
          },
          "name": "stdout",
          "output_type": "stream",
          "text": [
            "1.입력한 수식 계산 2. 두 수 사이의 합계\n"
          ]
        }
      ],
      "source": [
        "print(\"1.입력한 수식 계산 2. 두 수 사이의 합계\")\n",
        "\n",
        "choice = int(input(\"선택(1 또는 2):\"))\n",
        "\n",
        "if choice == 1 :\n",
        "\n",
        "  expr = input (\"수식을 입력하세요 :\")\n",
        "  result = eval(expr)\n",
        "  print(f\"{expr}의 결과는 {result}입니다.\")\n",
        "\n",
        "\n",
        "elif choice == 2 :\n",
        "\n",
        "   num1 = int(input(\"첫 번째 숫자를 입력하세요:\"))\n",
        "   num2 = int(input(\"두 번째 숫자를 입력하세요:\"))\n",
        "   total = sum(range(num1, num2 +1))\n",
        "   print(f\"{num1}부터 {num2}까지의 합은 {total}입니다.\")\n",
        "\n",
        "\n",
        "else :\n",
        "   print(\"잘못된 선택입니다. 다시 선택해주세요.\")"
      ]
    }
  ]
}